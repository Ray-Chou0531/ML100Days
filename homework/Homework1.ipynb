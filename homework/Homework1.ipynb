{
 "cells": [
  {
   "cell_type": "code",
   "execution_count": 3,
   "metadata": {},
   "outputs": [
    {
     "data": {
      "text/plain": [
       "'1.19.2'"
      ]
     },
     "execution_count": 3,
     "metadata": {},
     "output_type": "execute_result"
    }
   ],
   "source": [
    "import numpy as np\n",
    "np.__version__"
   ]
  },
  {
   "cell_type": "code",
   "execution_count": 16,
   "metadata": {},
   "outputs": [
    {
     "name": "stdout",
     "output_type": "stream",
     "text": [
      "(Question 1-1)\n",
      "\n",
      "0 1 2 3 4 5 6 7 8 9 10 11 12 13 14 15 16 17 18 19 20 \n",
      "\n",
      "(Question 1-2)\n",
      "\n",
      "0 is even\n",
      "2 is even\n",
      "4 is even\n",
      "6 is even\n",
      "8 is even\n",
      "10 is even\n",
      "12 is even\n",
      "14 is even\n",
      "16 is even\n",
      "18 is even\n",
      "20 is even\n",
      "\n",
      "Question (1-3)\n",
      "\n",
      "0 is multiple of 3\n",
      "3 is multiple of 3\n",
      "6 is multiple of 3\n",
      "9 is multiple of 3\n",
      "12 is multiple of 3\n",
      "15 is multiple of 3\n",
      "18 is multiple of 3\n"
     ]
    }
   ],
   "source": [
    "!! (Q1) 生成一個等差數列，首數為 0，尾數為 20，公差為 1 的數列。!!\n",
    "!! Ans:\n",
    "print(\"(Question 1-1)\")\n",
    "print()\n",
    "for i in range(21):\n",
    "    print(i, end=\" \")\n",
    "\n",
    "!! (Q2) 呈上題，將以上數列取出偶數。 !!\n",
    "\n",
    "print()\n",
    "print()\n",
    "print(\"(Question 1-2)\")\n",
    "print()\n",
    "for i in range(21):\n",
    "    if (i > 0 and i%2) == 0:\n",
    "        print(\"{0} is even\".format(i))\n",
    "        \n",
    "!! (Q3)呈 1 題，將數列取出 3 的倍數。 !! \n",
    "\n",
    "print()\n",
    "print(\"Question (1-3)\")\n",
    "print()\n",
    "for i in range(21):\n",
    "    if (i > 0 and i % 3) == 0:\n",
    "        print(\"{0} is multiple of 3\".format(i)) "
   ]
  },
  {
   "cell_type": "code",
   "execution_count": null,
   "metadata": {},
   "outputs": [],
   "source": []
  }
 ],
 "metadata": {
  "kernelspec": {
   "display_name": "Python 3",
   "language": "python",
   "name": "python3"
  },
  "language_info": {
   "codemirror_mode": {
    "name": "ipython",
    "version": 3
   },
   "file_extension": ".py",
   "mimetype": "text/x-python",
   "name": "python",
   "nbconvert_exporter": "python",
   "pygments_lexer": "ipython3",
   "version": "3.8.5"
  }
 },
 "nbformat": 4,
 "nbformat_minor": 4
}
